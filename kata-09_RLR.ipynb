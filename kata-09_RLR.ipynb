{
  "cells": [
    {
      "cell_type": "markdown",
      "metadata": {},
      "source": [
        "# Ejercicio: Uso de funciones en Python"
      ]
    },
    {
      "cell_type": "markdown",
      "metadata": {},
      "source": [
        "### Ejercicio 1: Trabajar con argumentos en funciones\n",
        "\n",
        "Los argumentos requeridos en las funciones se utilizan cuando las funciones necesitan que esos argumentos funcionen correctamente. En este ejercicio, construirás un informe de combustible que requiere información de varias ubicaciones de combustible en todo el cohete.\n",
        "\n"
      ]
    },
    {
      "cell_type": "markdown",
      "metadata": {},
      "source": [
        "> **TIP**\n",
        "> Dedica unos minutos para tratar de encontrar una solución. Luego desplázate hacia abajo hasta la parte inferior para ver si has logrado compilar el programa de acuerdo con las especificaciones\n",
        "\n",
        "Comienza por crear una función que necesite tres lecturas de combustible y devuelva un informe:"
      ]
    },
    {
      "cell_type": "code",
      "execution_count": 17,
      "metadata": {},
      "outputs": [],
      "source": [
        "# Función para leer 3 tanques de combustible y muestre el promedio\n",
        "def estado_combustible(t1, t2, t3):\n",
        "    print(\"----Informe de combustible----\")\n",
        "    print(\"Combustible en Tanque 01:\", t1)\n",
        "    print(\"Combustible en Tanque 02:\", t2)\n",
        "    print(\"Combustible en Tanque 03:\", t3)\n",
        "\n",
        "    print(\"El combustible promedio en la nave es:\", (t1+t2+t3)/3)"
      ]
    },
    {
      "cell_type": "markdown",
      "metadata": {},
      "source": [
        "Ahora que hemos definido la función de informes, vamos a comprobarlo. Para esta misión, los tanques no están llenos:"
      ]
    },
    {
      "cell_type": "code",
      "execution_count": 18,
      "metadata": {},
      "outputs": [
        {
          "name": "stdout",
          "output_type": "stream",
          "text": [
            "----Informe de combustible----\n",
            "Combustible en Tanque 01: 0\n",
            "Combustible en Tanque 02: 0\n",
            "Combustible en Tanque 03: 0\n",
            "El combustible promedio en la nave es: 0.0\n"
          ]
        }
      ],
      "source": [
        "\n",
        "# Llamamos a la función que genera el reporte print(funcion(tanque1, tanque2, tanque3))\n",
        "estado_combustible(0,0,0)"
      ]
    },
    {
      "cell_type": "markdown",
      "metadata": {},
      "source": [
        "En lugar de simplemente crear el informe, la función también está calculando el promedio. Mejora la legibilidad extrayendo el cálculo promedio de la función en una nueva función para que el promedio se pueda hacer de forma independiente:"
      ]
    },
    {
      "cell_type": "code",
      "execution_count": 7,
      "metadata": {},
      "outputs": [],
      "source": [
        "# Función promedio \n",
        "def promedio(a1, a2, a3):\n",
        "    prom = (a1 + a2 + a3) / 3\n",
        "    return prom"
      ]
    },
    {
      "cell_type": "markdown",
      "metadata": {},
      "source": [
        "Ahora actualiza la función de informes para llamando a la nueva función del promedio:\n"
      ]
    },
    {
      "cell_type": "code",
      "execution_count": 6,
      "metadata": {},
      "outputs": [],
      "source": [
        "# Actualiza la función\n",
        "def estado_combustible(t1, t2, t3):\n",
        "    print(\"----Informe de combustible----\")\n",
        "    print(\"Combustible en Tanque 01:\", t1)\n",
        "    print(\"Combustible en Tanque 02:\", t2)\n",
        "    print(\"Combustible en Tanque 03:\", t3)\n",
        "\n",
        "    prom = promedio(t1,t2,t3)\n",
        "    print(\"El combustible promedio en la nave es:\", prom)"
      ]
    },
    {
      "cell_type": "code",
      "execution_count": 11,
      "metadata": {},
      "outputs": [
        {
          "name": "stdout",
          "output_type": "stream",
          "text": [
            "----Informe de combustible----\n",
            "Combustible en Tanque 01: 8\n",
            "Combustible en Tanque 02: 2\n",
            "Combustible en Tanque 03: 2\n",
            "El combustible promedio en la nave es: 4.0\n"
          ]
        }
      ],
      "source": [
        "estado_combustible(8,2,2)"
      ]
    },
    {
      "cell_type": "markdown",
      "metadata": {},
      "source": [
        "> Recuerda: Lo importante es intentarlo, puedes auxiliarte de internet, libros, etc. El objetivo de una kata es la comprobación de la comprensión de la lección y su aplicación inmediata a la resolución de problemas. Go for it!"
      ]
    },
    {
      "cell_type": "markdown",
      "metadata": {},
      "source": [
        "## Ejercicio 2: Trabajo con argumentos de palabra clave"
      ]
    },
    {
      "cell_type": "markdown",
      "metadata": {},
      "source": [
        "### Ejercicio : Trabajar con argumentos de palabras clave en funciones\n",
        "En este ejercicio, construirás un informe de cohete que requiere varias piezas de información, como el tiempo hasta el destino, el combustible a la izquierda y el nombre del destino. Comienza por crear una función que creará un informe preciso de la misión:"
      ]
    },
    {
      "cell_type": "code",
      "execution_count": 3,
      "metadata": {},
      "outputs": [],
      "source": [
        "tiempo_prelan = 0       # hora de prelanzamiento \n",
        "tiempo_vuelo = 0        # tiempo de vuelo \n",
        "destino = ''            # destino \n",
        "tanque_externo = 0      # tanque externo\n",
        "tanque_interno = 0      # tanque interno"
      ]
    },
    {
      "cell_type": "code",
      "execution_count": 1,
      "metadata": {},
      "outputs": [],
      "source": [
        "# Función con un informe preciso de la misión. Considera hora de prelanzamiento, tiempo de vuelo, destino, tanque externo y tanque interno\n",
        "\n",
        "def informe_mision(tiempo_prelan, tiempo_vuelo, destino, tanque_externo, tanque_interno):\n",
        "    print(\"----Informe de la Misión----\\n Destino:\", destino)\n",
        "    print(\"Tiempo total de viaje:\", tiempo_prelan + tiempo_vuelo, \"minutos\")\n",
        "    print(\"Combustible restante:\", tanque_externo + tanque_interno, \"litros\")"
      ]
    },
    {
      "cell_type": "markdown",
      "metadata": {},
      "source": [
        "La función es problemática porque no se puede adaptar para minutos adicionales o tanques adicionales de combustible. Hazlo más flexible permitiendo cualquier número de pasos basados en el tiempo y cualquier número de tanques. En lugar de usar `*args` y `**kwargs`, aprovecha el hecho de que puedes usar cualquier nombre que desees. Asegurate que la función sea más legible mediante el uso de nombres de variables que están asociados con las entradas, como `*minutes` y `**fuel_reservoirs`:"
      ]
    },
    {
      "cell_type": "code",
      "execution_count": 2,
      "metadata": {},
      "outputs": [],
      "source": [
        "# Escribe tu nueva función de reporte considerando lo anterior\n",
        "def informe_mision(destino, *tiempo, **tanques):\n",
        "    print(\"----Informe de la Misión----\\n Destino:\", destino)\n",
        "    print(\"Tiempo total de viaje:\", sum(tiempo), \"minutos\")\n",
        "    print(\"Combustible restante:\", sum(tanques.values()), \"litros\")"
      ]
    },
    {
      "cell_type": "markdown",
      "metadata": {},
      "source": [
        "Debido a que el combustible que queda en los tanques es específico de cada tanque, actualiza la función para usar el nombre de cada tanque en el informe:"
      ]
    },
    {
      "cell_type": "code",
      "execution_count": 7,
      "metadata": {},
      "outputs": [],
      "source": [
        "# Escribe tu nueva función\n",
        "def informe_mision(destino, *tiempo, **tanques):\n",
        "    print(\"----Informe de la Misión----\\n-> Destino:\", destino)\n",
        "    print(\"-> Tiempo total de viaje:\", sum(tiempo), \"minutos\")\n",
        "    print(\"-> Combustible restante en cada tanque:\")\n",
        "    for tanque, litros in tanques.items():\n",
        "        print(f'   >> En {tanque} hay {litros} litros')"
      ]
    },
    {
      "cell_type": "code",
      "execution_count": 9,
      "metadata": {},
      "outputs": [
        {
          "name": "stdout",
          "output_type": "stream",
          "text": [
            "----Informe de la Misión----\n",
            "-> Destino: Jupiter\n",
            "-> Tiempo total de viaje: 709 minutos\n",
            "-> Combustible restante en cada tanque:\n",
            "   >> En tanque_externo hay 5600 litros\n",
            "   >> En tanque_interno hay 6905 litros\n",
            "   >> En tanque_emergencia hay 10000 litros\n"
          ]
        },
        {
          "data": {
            "text/plain": [
              "0"
            ]
          },
          "execution_count": 9,
          "metadata": {},
          "output_type": "execute_result"
        }
      ],
      "source": [
        "informe_mision('Jupiter',6,50,49,604,tanque_externo=5600, tanque_interno=6905, tanque_emergencia=10000)"
      ]
    }
  ],
  "metadata": {
    "interpreter": {
      "hash": "205095b8b86ea82a021a8fc2ffba2b3bc9f8d0be25999901963b225939f75778"
    },
    "kernelspec": {
      "display_name": "Python 3.8.10 64-bit ('tmp': conda)",
      "name": "python3"
    },
    "language_info": {
      "codemirror_mode": {
        "name": "ipython",
        "version": 3
      },
      "file_extension": ".py",
      "mimetype": "text/x-python",
      "name": "python",
      "nbconvert_exporter": "python",
      "pygments_lexer": "ipython3",
      "version": "3.10.2"
    },
    "nteract": {
      "version": "nteract-front-end@1.0.0"
    },
    "orig_nbformat": 4
  },
  "nbformat": 4,
  "nbformat_minor": 2
}
